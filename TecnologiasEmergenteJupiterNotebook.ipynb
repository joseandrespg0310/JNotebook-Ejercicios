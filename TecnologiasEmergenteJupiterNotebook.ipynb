{
 "cells": [
  {
   "cell_type": "code",
   "execution_count": 3,
   "metadata": {},
   "outputs": [
    {
     "name": "stdout",
     "output_type": "stream",
     "text": [
      "[1 2 3 4 5 6 7 8 9]\n"
     ]
    }
   ],
   "source": [
    "import numpy as np\n",
    "\n",
    "# Crea un arreglo unidimensional con elementos comprendidos entre 1 y 9\n",
    "arr = np.arange(1, 10)\n",
    "print(arr)\n"
   ]
  },
  {
   "cell_type": "markdown",
   "metadata": {},
   "source": [
    "list1=arr.tolist()\n",
    "print(list1)"
   ]
  },
  {
   "cell_type": "markdown",
   "metadata": {},
   "source": [
    "#CREACION DE COPIAS Y VISTAS DE ARREGLOS EN NUMPY"
   ]
  },
  {
   "cell_type": "code",
   "execution_count": 4,
   "metadata": {},
   "outputs": [
    {
     "name": "stdout",
     "output_type": "stream",
     "text": [
      "[[1 2]\n",
      " [3 4]]\n"
     ]
    }
   ],
   "source": [
    "#Crea un arreglo  de 2x2 con numeros comprendidos entre 1 y 4\n",
    "arr=np.arange(1,5).reshape(2,2)\n",
    "print(arr)"
   ]
  },
  {
   "cell_type": "code",
   "execution_count": 5,
   "metadata": {},
   "outputs": [
    {
     "name": "stdout",
     "output_type": "stream",
     "text": [
      "[[1 2]\n",
      " [3 4]]\n"
     ]
    }
   ],
   "source": [
    "# Aigna el contenido de un arreglo a otro, sin copiarlo\n",
    "arr_no_copia=arr\n",
    "print(arr_no_copia)"
   ]
  },
  {
   "cell_type": "code",
   "execution_count": 6,
   "metadata": {},
   "outputs": [
    {
     "name": "stdout",
     "output_type": "stream",
     "text": [
      "[[1 2]\n",
      " [3 4]]\n"
     ]
    }
   ],
   "source": [
    "#Copia el contenido de un arreglo en otro\n",
    "arr_copia=arr.copy()\n",
    "print(arr_copia)"
   ]
  },
  {
   "cell_type": "code",
   "execution_count": 7,
   "metadata": {},
   "outputs": [
    {
     "name": "stdout",
     "output_type": "stream",
     "text": [
      "[[1 2]\n",
      " [3 4]]\n"
     ]
    }
   ],
   "source": [
    "#Crea un arreglo usando una vista\n",
    "arr_vista=arr.view()\n",
    "print(arr_vista)\n"
   ]
  },
  {
   "cell_type": "code",
   "execution_count": 8,
   "metadata": {},
   "outputs": [
    {
     "name": "stdout",
     "output_type": "stream",
     "text": [
      "Arreglo Original:  2421063204176\n",
      "Arreglo asignado 2421063204176\n",
      "Arreglo Copuado 2421063200720\n",
      "Vista de arreglo:  2421063204272\n"
     ]
    }
   ],
   "source": [
    "#Despliega nobres de los arrgrelos creados\n",
    "print(\"Arreglo Original: \",id(arr))\n",
    "print(\"Arreglo asignado\",id(arr_no_copia))\n",
    "print(\"Arreglo Copuado\",id(arr_copia))\n",
    "print(\"Vista de arreglo: \",id(arr_vista))"
   ]
  },
  {
   "cell_type": "code",
   "execution_count": 9,
   "metadata": {},
   "outputs": [
    {
     "name": "stdout",
     "output_type": "stream",
     "text": [
      "[[ 1  2]\n",
      " [99 89]]\n"
     ]
    }
   ],
   "source": [
    "#Actualizacion de valores de arreglo original\n",
    "#Actualiza fila 2 del arreglo\n",
    "arr[1]=[99,89]\n",
    "print(arr)"
   ]
  },
  {
   "cell_type": "code",
   "execution_count": 10,
   "metadata": {},
   "outputs": [
    {
     "name": "stdout",
     "output_type": "stream",
     "text": [
      "Vista del arreglo:\n",
      " [[ 1  2]\n",
      " [99 89]]\n"
     ]
    }
   ],
   "source": [
    "#Verifica valores de la vista del arreglo\n",
    "print(\"Vista del arreglo:\\n\",arr_vista)\n"
   ]
  },
  {
   "cell_type": "code",
   "execution_count": 11,
   "metadata": {},
   "outputs": [
    {
     "name": "stdout",
     "output_type": "stream",
     "text": [
      "Copia del arreglo: \n",
      " [[1 2]\n",
      " [3 4]]\n"
     ]
    }
   ],
   "source": [
    "#Verifica valores de la copia del arreglo\n",
    "print(\"Copia del arreglo: \\n\",arr_copia)\n"
   ]
  },
  {
   "cell_type": "markdown",
   "metadata": {},
   "source": [
    "Seleccion de elementos de un arreglo"
   ]
  },
  {
   "cell_type": "code",
   "execution_count": 13,
   "metadata": {},
   "outputs": [
    {
     "name": "stdout",
     "output_type": "stream",
     "text": [
      "[0 1 2 3 4 5 6 7 8 9]\n"
     ]
    }
   ],
   "source": [
    "#Crea un arreglo unidimensional con elementos comprendidos entre 0 y 9\n",
    "arr=np.arange(0,10)\n",
    "print(arr)"
   ]
  },
  {
   "cell_type": "code",
   "execution_count": 14,
   "metadata": {},
   "outputs": [
    {
     "name": "stdout",
     "output_type": "stream",
     "text": [
      "[3 4 5]\n"
     ]
    }
   ],
   "source": [
    "#Selecciona elementos desde la posicion 4 hasta la posicion 6\n",
    "\n",
    "print(arr[3:6])"
   ]
  },
  {
   "cell_type": "code",
   "execution_count": 15,
   "metadata": {},
   "outputs": [
    {
     "name": "stdout",
     "output_type": "stream",
     "text": [
      "[4 5 6 7 8 9]\n"
     ]
    }
   ],
   "source": [
    "#Selecciona los elementos desde la posicion 4 hasta adelante \n",
    "print(arr[4:])"
   ]
  },
  {
   "cell_type": "code",
   "execution_count": 5,
   "metadata": {},
   "outputs": [
    {
     "name": "stdout",
     "output_type": "stream",
     "text": [
      "Arreglo original:\n",
      "[[ 1  2  3  4]\n",
      " [ 5  6  7  8]\n",
      " [ 9 10 11 12]\n",
      " [13 14 15 16]]\n",
      "\n",
      "Partición horizontal:\n",
      "[[ 1]\n",
      " [ 5]\n",
      " [ 9]\n",
      " [13]]\n",
      "[[ 2]\n",
      " [ 6]\n",
      " [10]\n",
      " [14]]\n",
      "[[ 3]\n",
      " [ 7]\n",
      " [11]\n",
      " [15]]\n",
      "[[ 4]\n",
      " [ 8]\n",
      " [12]\n",
      " [16]]\n",
      "\n",
      "Partición vertical:\n",
      "[[1 2 3 4]]\n",
      "[[5 6 7 8]]\n",
      "[[ 9 10 11 12]]\n",
      "[[13 14 15 16]]\n",
      "\n",
      "Vista del arreglo original:\n",
      "[[ 1  2  3  4]\n",
      " [ 5  6  7  8]\n",
      " [ 9 10 11 12]\n",
      " [13 14 15 16]]\n"
     ]
    }
   ],
   "source": [
    "#Genere un arreglo de 4x4 con numeros comprendidos entre 1 y 16 , particione horizontalmente y verticalmente el arreglo en 4 subarreglos por ultimo crear una vista del arreglo original\n",
    "import numpy as np\n",
    "\n",
    "# Genera un arreglo de 4x4 con números entre 1 y 16\n",
    "arr = np.arange(1, 17).reshape(4, 4)\n",
    "print(\"Arreglo original:\")\n",
    "print(arr)\n",
    "\n",
    "# Particiona el arreglo horizontalmente en 4 subarreglos\n",
    "horizontal_split = np.hsplit(arr, 4)\n",
    "print(\"\\nPartición horizontal:\")\n",
    "for subarr in horizontal_split:\n",
    "    print(subarr)\n",
    "\n",
    "# Particiona el arreglo verticalmente en 4 subarreglos\n",
    "vertical_split = np.vsplit(arr, 4)\n",
    "print(\"\\nPartición vertical:\")\n",
    "for subarr in vertical_split:\n",
    "    print(subarr)\n",
    "\n",
    "# Crear una vista del arreglo original\n",
    "arr_view = arr.view()\n",
    "print(\"\\nVista del arreglo original:\")\n",
    "print(arr_view)\n"
   ]
  }
 ],
 "metadata": {
  "kernelspec": {
   "display_name": "Python 3",
   "language": "python",
   "name": "python3"
  },
  "language_info": {
   "codemirror_mode": {
    "name": "ipython",
    "version": 3
   },
   "file_extension": ".py",
   "mimetype": "text/x-python",
   "name": "python",
   "nbconvert_exporter": "python",
   "pygments_lexer": "ipython3",
   "version": "3.12.6"
  }
 },
 "nbformat": 4,
 "nbformat_minor": 2
}
